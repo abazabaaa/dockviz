{
 "cells": [
  {
   "cell_type": "code",
   "execution_count": 1,
   "metadata": {},
   "outputs": [],
   "source": [
    "import numpy\n",
    "import pandas as pd\n",
    "import tqdm"
   ]
  },
  {
   "cell_type": "markdown",
   "metadata": {},
   "source": [
    "https://www.cheminformania.com/ligand-docking-with-smina/\n",
    "\n",
    "```python\n",
    "fetch 5WIU\n",
    "remove resn HOH\n",
    "h_add elem O or elem N\n",
    "select 1OYT-FSN, resn FSN #Create a selection called 1OYT-FSN from the ligand\n",
    "select 1OYT-receptor, 1OYT and not 1OYT-FSN #Select all that is not the ligand\n",
    "save 1OYT-FSN.pdb, 1OYT-FSN\n",
    "save 1OYT-receptor.pdb, 1OYT-receptor\n",
    "```\n",
    "\n",
    "\n",
    "```\n",
    "obabel 1OYT-receptor.pdb -xr -O 1OYT-receptor.pdbqt\n",
    "obabel 1OYT-FSN.pdb -O 1OYT-FSN.pdbqt\n",
    "\n",
    "```\n",
    "\n",
    "```\n",
    "smina.static -r 1OYT-receptor.pdbqt -l 1OYT-FSN.pdbqt --autobox_ligand 1OYT-FSN.pdbqt --autobox_add 8 --exhaustiveness 16 -o 1OYT-redock.pdbqt\n",
    "```"
   ]
  },
  {
   "cell_type": "code",
   "execution_count": 15,
   "metadata": {},
   "outputs": [],
   "source": [
    "df = pd.read_csv('https://gist.githubusercontent.com/ljmartin/82f0dfe9f58e584a3e5186afe6e75973/raw/4315cb08931628f03781546da46c0b98875c453b/41586_2019_917_MOESM4_ESM.csv')\n",
    "df = df['SMILES'][:5]"
   ]
  },
  {
   "cell_type": "code",
   "execution_count": 4,
   "metadata": {},
   "outputs": [
    {
     "name": "stdout",
     "output_type": "stream",
     "text": [
      "1 molecule converted\n",
      "==============================\n",
      "*** Open Babel Warning  in PerceiveBondOrders\n",
      "  Failed to kekulize aromatic bonds in OBMol::PerceiveBondOrders (title is 5WIU-receptor.pdb)\n",
      "\n",
      "1 molecule converted\n"
     ]
    }
   ],
   "source": [
    "#convert ligand:\n",
    "!obabel 5WIU-CAC.pdb -O 5WIU-CAC.pdbqt\n",
    "\n",
    "#convert receptor\n",
    "!obabel 5WIU-receptor.pdb -xr -O 5WIU-receptor.pdbqt"
   ]
  },
  {
   "cell_type": "code",
   "execution_count": 18,
   "metadata": {},
   "outputs": [
    {
     "data": {
      "text/plain": [
       "0    Cc1ccc(C[C@@H](CO)N[C@@H](C)CCc2ccccc2[N+](=O)...\n",
       "1    C[C@H](C(=O)Nc1cc([N+](=O)[O-])ccc1Cl)N(C)C[C@...\n",
       "2      C[C@@H](NC[C@](C)(O)c1ccccc1)c1cn(-c2ccccc2)nn1\n",
       "3    C[C@H](Nc1cc(-n2cccn2)nc(N)n1)[C@H](c1ccccc1)N...\n",
       "4          COC(=O)C[C@H]1CSCCN1Cc1cn(-c2cccc(C)c2)nc1C\n",
       "Name: SMILES, dtype: object"
      ]
     },
     "execution_count": 18,
     "metadata": {},
     "output_type": "execute_result"
    }
   ],
   "source": [
    "df"
   ]
  },
  {
   "cell_type": "code",
   "execution_count": null,
   "metadata": {
    "scrolled": true
   },
   "outputs": [
    {
     "name": "stderr",
     "output_type": "stream",
     "text": [
      "<ipython-input-19-a59e749c6ba0>:4: TqdmDeprecationWarning: This function will be removed in tqdm==5.0.0\n",
      "Please use `tqdm.notebook.tqdm` instead of `tqdm.tqdm_notebook`\n",
      "  for count, smi in tqdm.tqdm_notebook(enumerate(df)):\n"
     ]
    },
    {
     "data": {
      "application/vnd.jupyter.widget-view+json": {
       "model_id": "4a420360ac374e87b4364dd508a81723",
       "version_major": 2,
       "version_minor": 0
      },
      "text/plain": [
       "HBox(children=(FloatProgress(value=1.0, bar_style='info', layout=Layout(width='20px'), max=1.0), HTML(value=''…"
      ]
     },
     "metadata": {},
     "output_type": "display_data"
    },
    {
     "name": "stdout",
     "output_type": "stream",
     "text": [
      "1 molecule converted\n",
      "\n",
      "0%   10   20   30   40   50   60   70   80   90   100%\n",
      "|----|----|----|----|----|----|----|----|----|----|\n",
      "***************************************************\n",
      "Refine time 9.27113\n",
      "Loop time 10.8096\n",
      "1 molecule converted\n",
      "1 molecule converted\n",
      "\n",
      "0%   10   20   30   40   50   60   70   80   90   100%\n",
      "|----|----|----|----|----|----|----|----|----|----|\n",
      "***************************************************\n",
      "Refine time 7.67843\n",
      "Loop time 9.54028\n",
      "1 molecule converted\n",
      "1 molecule converted\n",
      "\n",
      "0%   10   20   30   40   50   60   70   80   90   100%\n",
      "|----|----|----|----|----|----|----|----|----|----|\n",
      "*************************************"
     ]
    }
   ],
   "source": [
    "\n",
    "#./smina.static -r 5WIU-receptor.pdbqt --quiet -l nam.pdbqt --cpu 2 --autobox_ligand 5WIU-CAC.pdbqt --autobox_add 8 --log hi.log --exhaustiveness 4 >/dev/null\n",
    "    \n",
    "for count, smi in tqdm.tqdm_notebook(enumerate(df)):\n",
    "    #convert the ligand:\n",
    "    !obabel -:\"$smi\" --gen3d ---errorlevel 1 --partial_charges gasteiger -O nam.pdbqt >/dev/null\n",
    "    \n",
    "    #perform docking:    \n",
    "    !./smina.static -r 5WIU-receptor.pdbqt --quiet -l nam.pdbqt --cpu 2 --autobox_ligand 5WIU-CAC.pdbqt --autobox_add 8 --log hi.log --exhaustiveness 4 --num_modes 1 -o \"$count\".pdbqt\n",
    "    \n",
    "    #save as a pdb:\n",
    "    !obabel -ipdbqt \"$count\".pdbqt -O \"$count\".pdb\n",
    "    "
   ]
  },
  {
   "cell_type": "code",
   "execution_count": 10,
   "metadata": {},
   "outputs": [
    {
     "data": {
      "image/png": "[encoded data removed]",
      "text/plain": [
       "<rdkit.Chem.rdchem.Mol at 0x7fd4e38db260>"
      ]
     },
     "execution_count": 10,
     "metadata": {},
     "output_type": "execute_result"
    }
   ],
   "source": [
    "from rdkit import Chem\n",
    "Chem.MolFromPDBFile('0.pdb')"
   ]
  }
 ],
 "metadata": {
  "kernelspec": {
   "display_name": "Python 3",
   "language": "python",
   "name": "python3"
  },
  "language_info": {
   "codemirror_mode": {
    "name": "ipython",
    "version": 3
   },
   "file_extension": ".py",
   "mimetype": "text/x-python",
   "name": "python",
   "nbconvert_exporter": "python",
   "pygments_lexer": "ipython3",
   "version": "3.7.8"
  }
 },
 "nbformat": 4,
 "nbformat_minor": 4
}
